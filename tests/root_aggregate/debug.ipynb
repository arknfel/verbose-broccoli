{
 "cells": [
  {
   "cell_type": "code",
   "execution_count": 1,
   "id": "5152937a-9ad3-45de-9b76-17209740ca23",
   "metadata": {},
   "outputs": [
    {
     "ename": "SyntaxError",
     "evalue": "invalid syntax (entity.py, line 56)",
     "output_type": "error",
     "traceback": [
      "Traceback \u001b[0;36m(most recent call last)\u001b[0m:\n",
      "\u001b[0m  File \u001b[1;32m/Library/Frameworks/Python.framework/Versions/3.12/lib/python3.12/site-packages/IPython/core/interactiveshell.py:3553\u001b[0m in \u001b[1;35mrun_code\u001b[0m\n    exec(code_obj, self.user_global_ns, self.user_ns)\u001b[0m\n",
      "\u001b[0m  Cell \u001b[1;32mIn[1], line 5\u001b[0m\n    from common.root_aggregate import Actor\u001b[0m\n",
      "\u001b[0;36m  File \u001b[0;32m~/ipcc/lambda/src/common/root_aggregate/__init__.py:1\u001b[0;36m\n\u001b[0;31m    from .entity import Actor\u001b[0;36m\n",
      "\u001b[0;36m  File \u001b[0;32m~/ipcc/lambda/src/common/root_aggregate/entity.py:56\u001b[0;36m\u001b[0m\n\u001b[0;31m    for obj in self.\u001b[0m\n\u001b[0m                    ^\u001b[0m\n\u001b[0;31mSyntaxError\u001b[0m\u001b[0;31m:\u001b[0m invalid syntax\n"
     ]
    }
   ],
   "source": [
    "import sys, os\n",
    "\n",
    "sys.path.append(os.path.abspath('../../src'))\n",
    "\n",
    "from common.root_aggregate import Actor\n",
    "from businesslogic.Calender_fun.main import CalendarEventActor"
   ]
  },
  {
   "cell_type": "code",
   "execution_count": 2,
   "id": "5e189329-d87d-42ed-9f64-7787b3b6b7e4",
   "metadata": {},
   "outputs": [],
   "source": [
    "baseActor = Actor({})\n",
    "assert baseActor.config.get('x', 42) == 42"
   ]
  },
  {
   "cell_type": "code",
   "execution_count": 3,
   "id": "f5e32bcb-d3dd-4ba8-999c-08f4b691b70f",
   "metadata": {},
   "outputs": [],
   "source": [
    "try:\n",
    "    businessActor = CalendarEventActor(baseActor.config)\n",
    "except Exception as e:\n",
    "    assert type(e) is CalendarEventActor.error_type\n",
    "    assert f'{CalendarEventActor.config_type.error_type.__name__}:' in str(e)\n"
   ]
  }
 ],
 "metadata": {
  "kernelspec": {
   "display_name": "Python 3 (ipykernel)",
   "language": "python",
   "name": "python3"
  },
  "language_info": {
   "codemirror_mode": {
    "name": "ipython",
    "version": 3
   },
   "file_extension": ".py",
   "mimetype": "text/x-python",
   "name": "python",
   "nbconvert_exporter": "python",
   "pygments_lexer": "ipython3",
   "version": "3.12.1"
  }
 },
 "nbformat": 4,
 "nbformat_minor": 5
}
