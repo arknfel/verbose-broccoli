{
 "cells": [
  {
   "cell_type": "code",
   "execution_count": 1,
   "id": "5152937a-9ad3-45de-9b76-17209740ca23",
   "metadata": {},
   "outputs": [],
   "source": [
    "import sys, os\n",
    "\n",
    "sys.path.append(os.path.abspath('../../src'))\n",
    "\n",
    "from common.root_aggregate import Actor\n",
    "from businesslogic.Calender_fun.main import CalendarEventActor"
   ]
  },
  {
   "cell_type": "code",
   "execution_count": 2,
   "id": "5e189329-d87d-42ed-9f64-7787b3b6b7e4",
   "metadata": {},
   "outputs": [],
   "source": [
    "baseActor = Actor({})\n",
    "assert baseActor.config.get('x', 42) == 42"
   ]
  },
  {
   "cell_type": "code",
   "execution_count": 3,
   "id": "f5e32bcb-d3dd-4ba8-999c-08f4b691b70f",
   "metadata": {},
   "outputs": [],
   "source": [
    "try:\n",
    "    businessActor = CalendarEventActor(baseActor.config)\n",
    "except Exception as e:\n",
    "    assert type(e) is CalendarEventActor.error_type\n",
    "    assert f'{CalendarEventActor.config_type.error_type.__name__}:' in str(e)\n"
   ]
  }
 ],
 "metadata": {
  "kernelspec": {
   "display_name": "Python 3 (ipykernel)",
   "language": "python",
   "name": "python3"
  },
  "language_info": {
   "codemirror_mode": {
    "name": "ipython",
    "version": 3
   },
   "file_extension": ".py",
   "mimetype": "text/x-python",
   "name": "python",
   "nbconvert_exporter": "python",
   "pygments_lexer": "ipython3",
   "version": "3.12.1"
  }
 },
 "nbformat": 4,
 "nbformat_minor": 5
}
