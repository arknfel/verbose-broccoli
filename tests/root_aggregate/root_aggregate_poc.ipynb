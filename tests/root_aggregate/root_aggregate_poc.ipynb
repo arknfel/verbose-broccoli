{
 "cells": [
  {
   "cell_type": "code",
   "execution_count": 1,
   "metadata": {},
   "outputs": [],
   "source": [
    "import sys, os\n",
    "\n",
    "sys.path.append(os.path.abspath('../../src'))\n",
    "\n",
    "from common.root_aggregate.actor import Actor\n",
    "from common.root_aggregate.value_object import ValueObject\n"
   ]
  },
  {
   "cell_type": "code",
   "execution_count": 2,
   "metadata": {},
   "outputs": [],
   "source": [
    "class DomainSubActorConfig(ValueObject):\n",
    "    label = 'domain_sub_actor'\n",
    "\n",
    "\n",
    "class DomainActorConfigPropertyX(ValueObject):\n",
    "    label = 'property_x'\n",
    "    types = {str}\n",
    "\n",
    "\n",
    "class DomainActorConfig(ValueObject):\n",
    "    label = 'domain_actor'\n",
    "    propx: DomainActorConfigPropertyX\n",
    "\n",
    "\n",
    "data = {\n",
    "    'domain_actor': {\n",
    "        'domain_sub_actor': 42,\n",
    "        'property_x': 'abc',\n",
    "    },\n",
    "    'value1': 'xoxo',\n",
    "    'value2': 'xdxd',\n",
    "}"
   ]
  },
  {
   "cell_type": "code",
   "execution_count": 3,
   "metadata": {},
   "outputs": [],
   "source": [
    "class DomainSubActor(Actor):\n",
    "    config: DomainSubActorConfig\n",
    "\n",
    "class DomainActor(Actor):\n",
    "    config: DomainActorConfig\n",
    "    sub_actor: DomainSubActor\n",
    "\n",
    "\n",
    "actor = DomainActor(data)\n",
    "assert actor.config.data == data\n",
    "assert actor.config.value == data['domain_actor']\n",
    "assert actor.config.propx.value == data['domain_actor']['property_x']\n",
    "assert actor.sub_actor.config.value == data['domain_actor']['domain_sub_actor']"
   ]
  },
  {
   "cell_type": "markdown",
   "metadata": {},
   "source": []
  }
 ],
 "metadata": {
  "kernelspec": {
   "display_name": "Python 3",
   "language": "python",
   "name": "python3"
  },
  "language_info": {
   "codemirror_mode": {
    "name": "ipython",
    "version": 3
   },
   "file_extension": ".py",
   "mimetype": "text/x-python",
   "name": "python",
   "nbconvert_exporter": "python",
   "pygments_lexer": "ipython3",
   "version": "3.12.1"
  }
 },
 "nbformat": 4,
 "nbformat_minor": 2
}
