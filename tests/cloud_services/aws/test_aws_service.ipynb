{
 "cells": [
  {
   "cell_type": "code",
   "execution_count": 1,
   "metadata": {},
   "outputs": [],
   "source": [
    "import sys, os\n",
    "\n",
    "sys.path.append(os.path.abspath('../../../src'))\n",
    "\n",
    "from common.cloud_services.aws.service import AWSService, AWSServiceConfig"
   ]
  },
  {
   "cell_type": "code",
   "execution_count": 2,
   "metadata": {},
   "outputs": [],
   "source": [
    "class S3ServiceConfig(AWSServiceConfig):\n",
    "    @property\n",
    "    def label(self):\n",
    "        return self.service_name\n",
    "\n",
    "    @property\n",
    "    def service_name(self):\n",
    "        return 's3'\n",
    "\n",
    "\n",
    "class S3Service(AWSService):\n",
    "    config: S3ServiceConfig"
   ]
  },
  {
   "cell_type": "code",
   "execution_count": 3,
   "metadata": {},
   "outputs": [
    {
     "data": {
      "text/plain": [
       "{'service_name': 's3', 'region_name': 'eu-central-1'}"
      ]
     },
     "execution_count": 3,
     "metadata": {},
     "output_type": "execute_result"
    }
   ],
   "source": [
    "config_meta = {\n",
    "    's3': {\n",
    "        'account_id': 123,\n",
    "        'region_name': 'eu-central-1'\n",
    "    }\n",
    "}\n",
    "\n",
    "svc = S3Service(config_meta)\n",
    "svc.config.kwargs.value"
   ]
  }
 ],
 "metadata": {
  "kernelspec": {
   "display_name": "Python 3",
   "language": "python",
   "name": "python3"
  },
  "language_info": {
   "codemirror_mode": {
    "name": "ipython",
    "version": 3
   },
   "file_extension": ".py",
   "mimetype": "text/x-python",
   "name": "python",
   "nbconvert_exporter": "python",
   "pygments_lexer": "ipython3",
   "version": "3.12.1"
  }
 },
 "nbformat": 4,
 "nbformat_minor": 2
}
